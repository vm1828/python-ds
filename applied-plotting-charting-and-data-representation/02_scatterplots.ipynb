{
 "cells": [
  {
   "cell_type": "markdown",
   "metadata": {},
   "source": [
    "# Scatterplots"
   ]
  },
  {
   "cell_type": "markdown",
   "metadata": {},
   "source": [
    "- Pyplot can retrieve the current figure with the function `gcf` and get the current axes with the function `gca`  \n",
    "- Pyplot just mirrors the API of the axes objects (we can call the `plot` function against the pyplot module, but this is calling the axes plot functions underneath)  \n",
    "- The function declaration from most of the functions in matplotlib end with an open set of keyword arguments. There are a lot of different properties we can control through these keyword arguments"
   ]
  },
  {
   "cell_type": "markdown",
   "metadata": {},
   "source": [
    "`scatter` function takes an x-axis value as a 1st argument and y-axis value as the second. If the two arguments are the same, we get diagonal alignment of points"
   ]
  },
  {
   "cell_type": "code",
   "execution_count": 1,
   "metadata": {},
   "outputs": [
    {
     "data": {
      "text/plain": [
       "<matplotlib.collections.PathCollection at 0x7ff54b7a3d00>"
      ]
     },
     "execution_count": 1,
     "metadata": {},
     "output_type": "execute_result"
    },
    {
     "data": {
      "image/png": "[encoded data removed]",
      "text/plain": [
       "<Figure size 432x288 with 1 Axes>"
      ]
     },
     "metadata": {
      "needs_background": "light"
     },
     "output_type": "display_data"
    }
   ],
   "source": [
    "# %matplotlib inline\n",
    "import numpy as np\n",
    "import matplotlib.pyplot as plt\n",
    "\n",
    "x = np.array([1,2,3,4,5,6,7,8])\n",
    "y = x\n",
    "\n",
    "plt.figure()\n",
    "plt.scatter(x, y) # similar to plt.plot(x, y, '.'), but the underlying child objects in the axes are not Line2D"
   ]
  },
  {
   "cell_type": "code",
   "execution_count": 2,
   "metadata": {},
   "outputs": [
    {
     "data": {
      "text/plain": [
       "<matplotlib.collections.PathCollection at 0x7ff54963d3a0>"
      ]
     },
     "execution_count": 2,
     "metadata": {},
     "output_type": "execute_result"
    },
    {
     "data": {
      "image/png": "[encoded data removed]",
      "text/plain": [
       "<Figure size 432x288 with 1 Axes>"
      ]
     },
     "metadata": {
      "needs_background": "light"
     },
     "output_type": "display_data"
    }
   ],
   "source": [
    "import numpy as np\n",
    "\n",
    "x = np.array([1,2,3,4,5,6,7,8])\n",
    "y = x\n",
    "\n",
    "# create a list of colors for each point to have\n",
    "# ['green', 'green', 'green', 'green', 'green', 'green', 'green', 'red']\n",
    "colors = ['green']*(len(x)-1)\n",
    "colors.append('red')\n",
    "\n",
    "plt.figure()\n",
    "\n",
    "# plot the point with size 100 and chosen colors\n",
    "plt.scatter(x, y, s=100, c=colors)"
   ]
  },
  {
   "cell_type": "markdown",
   "metadata": {},
   "source": [
    "The separation of data points into lists, which describe them as components, is a pretty common pattern in matplotlib. We have some set of items, but they are described as the same slice across many different data sources (not as data point instances which encapsulate all properties)"
   ]
  },
  {
   "cell_type": "code",
   "execution_count": 3,
   "metadata": {},
   "outputs": [
    {
     "name": "stdout",
     "output_type": "stream",
     "text": [
      "[(1, 6), (2, 7), (3, 8), (4, 9), (5, 10)]\n",
      "(1, 6) (2, 7) (3, 8) (4, 9) (5, 10)\n",
      "[(1, 2, 3, 4, 5), (6, 7, 8, 9, 10)]\n",
      "(1, 2, 3, 4, 5)\n",
      "(6, 7, 8, 9, 10)\n"
     ]
    }
   ],
   "source": [
    "# convert the two lists into a list of pairwise tuples\n",
    "zip_generator = zip([1,2,3,4,5], [6,7,8,9,10])\n",
    "\n",
    "print(list(zip_generator))\n",
    "# the above prints:\n",
    "# [(1, 6), (2, 7), (3, 8), (4, 9), (5, 10)]\n",
    "\n",
    "zip_generator = zip([1,2,3,4,5], [6,7,8,9,10])\n",
    "# The single star * unpacks a collection into positional arguments\n",
    "print(*zip_generator)\n",
    "# the above prints:\n",
    "# (1, 6) (2, 7) (3, 8) (4, 9) (5, 10)\n",
    "\n",
    "# use zip to convert 5 tuples with 2 elements each to 2 tuples with 5 elements each\n",
    "print(list(zip((1, 6), (2, 7), (3, 8), (4, 9), (5, 10))))\n",
    "# the above prints:\n",
    "# [(1, 2, 3, 4, 5), (6, 7, 8, 9, 10)]\n",
    "\n",
    "zip_generator = zip([1,2,3,4,5], [6,7,8,9,10])\n",
    "# let's turn the data back into 2 lists\n",
    "x, y = zip(*zip_generator) # This is like calling zip((1, 6), (2, 7), (3, 8), (4, 9), (5, 10))\n",
    "print(x)\n",
    "print(y)\n",
    "# the above prints:\n",
    "# (1, 2, 3, 4, 5)\n",
    "# (6, 7, 8, 9, 10)"
   ]
  },
  {
   "cell_type": "code",
   "execution_count": 4,
   "metadata": {},
   "outputs": [
    {
     "name": "stdout",
     "output_type": "stream",
     "text": [
      "Current axes object's children:\n",
      "[<matplotlib.collections.PathCollection object at 0x7ff5495be9d0>, <matplotlib.collections.PathCollection object at 0x7ff5495bee80>, <matplotlib.spines.Spine object at 0x7ff5496092e0>, <matplotlib.spines.Spine object at 0x7ff549609400>, <matplotlib.spines.Spine object at 0x7ff549609520>, <matplotlib.spines.Spine object at 0x7ff549609640>, <matplotlib.axis.XAxis object at 0x7ff549609280>, <matplotlib.axis.YAxis object at 0x7ff549609b20>, Text(0.5, 1.0, 'Relationship between ball kicking and grades'), Text(0.0, 1.0, ''), Text(1.0, 1.0, ''), <matplotlib.legend.Legend object at 0x7ff549629460>, <matplotlib.patches.Rectangle object at 0x7ff5496293d0>]\n",
      "\n",
      "Navigate through the Legend's child artists:\n",
      "[<matplotlib.offsetbox.HPacker object at 0x7ff5495cfdf0>, <matplotlib.offsetbox.HPacker object at 0x7ff5495cfe20>]\n",
      "\n",
      "Legend\n",
      "    <matplotlib.offsetbox.VPacker object at 0x7ff5495de4c0>\n",
      "        <matplotlib.offsetbox.TextArea object at 0x7ff5495de220>\n",
      "            Text(0, 0, '')\n",
      "        <matplotlib.offsetbox.HPacker object at 0x7ff5495de130>\n",
      "            <matplotlib.offsetbox.VPacker object at 0x7ff5495d6fd0>\n",
      "                <matplotlib.offsetbox.HPacker object at 0x7ff5495d6ee0>\n",
      "                    <matplotlib.offsetbox.DrawingArea object at 0x7ff5803350a0>\n",
      "                        <matplotlib.collections.PathCollection object at 0x7ff5495d62e0>\n",
      "                    <matplotlib.offsetbox.TextArea object at 0x7ff5495d67c0>\n",
      "                        Text(0, 0, 'Tall students')\n",
      "                <matplotlib.offsetbox.HPacker object at 0x7ff5495de040>\n",
      "                    <matplotlib.offsetbox.DrawingArea object at 0x7ff5495d6d30>\n",
      "                        <matplotlib.collections.PathCollection object at 0x7ff5495d6eb0>\n",
      "                    <matplotlib.offsetbox.TextArea object at 0x7ff5495d6ac0>\n",
      "                        Text(0, 0, 'Short students')\n",
      "    FancyBboxPatch((0, 0), width=1, height=1)\n"
     ]
    },
    {
     "data": {
      "image/png": "[encoded data removed]",
      "text/plain": [
       "<Figure size 432x288 with 1 Axes>"
      ]
     },
     "metadata": {
      "needs_background": "light"
     },
     "output_type": "display_data"
    }
   ],
   "source": [
    "plt.figure()\n",
    "# plot a data series 'Tall students' in red using the first two elements of x and y\n",
    "plt.scatter(x[:2], y[:2], s=100, c='red', label='Tall students')\n",
    "# plot a second data series 'Short students' in blue using the last three elements of x and y \n",
    "plt.scatter(x[2:], y[2:], s=100, c='blue', label='Short students')\n",
    "\n",
    "# add a label to the x axis\n",
    "plt.xlabel('The number of times the child kicked a ball')\n",
    "# add a label to the y axis\n",
    "plt.ylabel('The grade of the student')\n",
    "# add a title\n",
    "plt.title('Relationship between ball kicking and grades')\n",
    "# add a legend (uses the labels from plt.scatter)\n",
    "plt.legend()\n",
    "# add the legend to loc=4 (the lower right hand corner), also gets rid of the frame and adds a title\n",
    "# plt.legend(loc=4, frameon=False, title='Legend')\n",
    "\n",
    "# =========================================================\n",
    "\n",
    "# the legend itself is an Artist and can contain children\n",
    "# get children from current axes (the legend is the second to last item in this list)\n",
    "print(f\"Current axes object's children:\\n{plt.gca().get_children()}\\n\")\n",
    "\n",
    "# get the legend from the current axes\n",
    "legend = plt.gca().get_children()[-2]\n",
    "# you can use get_children to navigate through the child artists\n",
    "print(f\"Navigate through the Legend's child artists:\")\n",
    "print(f\"{legend.get_children()[0].get_children()[1].get_children()[0].get_children()}\\n\")\n",
    "\n",
    "# import the artist class from matplotlib\n",
    "from matplotlib.artist import Artist\n",
    "def rec_gc(art, depth=0):\n",
    "    if isinstance(art, Artist):\n",
    "        # increase the depth for pretty printing\n",
    "        print(\"  \" * depth + str(art))\n",
    "        for child in art.get_children():\n",
    "            rec_gc(child, depth+2)\n",
    "\n",
    "# Call this function on the legend artist to see what the legend is made up of\n",
    "rec_gc(plt.legend())\n"
   ]
  }
 ],
 "metadata": {
  "interpreter": {
   "hash": "bedb456c523726507b65425b0befe9b7a70e9d9d7e093775b1b2ea7fb6595020"
  },
  "kernelspec": {
   "display_name": "Python 3.8.10 ('.venv': venv)",
   "language": "python",
   "name": "python3"
  },
  "language_info": {
   "codemirror_mode": {
    "name": "ipython",
    "version": 3
   },
   "file_extension": ".py",
   "mimetype": "text/x-python",
   "name": "python",
   "nbconvert_exporter": "python",
   "pygments_lexer": "ipython3",
   "version": "3.8.10"
  },
  "orig_nbformat": 4
 },
 "nbformat": 4,
 "nbformat_minor": 2
}
