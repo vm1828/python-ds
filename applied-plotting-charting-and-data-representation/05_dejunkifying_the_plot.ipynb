{
 "cells": [
  {
   "cell_type": "markdown",
   "metadata": {},
   "source": [
    "# Dejunkifying the Plot"
   ]
  },
  {
   "cell_type": "markdown",
   "metadata": {},
   "source": [
    "### Data (Stackoverflow)\n",
    "\n",
    "| Language | Popularity |\n",
    "| --- | --- |\n",
    "| Python | 56% |\n",
    "| SQL | 39% |\n",
    "| Java | 34% |\n",
    "| C++ | 34% |\n",
    "| JS | 29% |\n"
   ]
  },
  {
   "cell_type": "code",
   "execution_count": 1,
   "metadata": {},
   "outputs": [
    {
     "data": {
      "image/png": "[encoded data removed]",
      "text/plain": [
       "<Figure size 432x288 with 1 Axes>"
      ]
     },
     "metadata": {
      "needs_background": "light"
     },
     "output_type": "display_data"
    }
   ],
   "source": [
    "import matplotlib.pyplot as plt\n",
    "import numpy as np\n",
    "\n",
    "plt.figure()\n",
    "\n",
    "languages =['Python', 'SQL', 'Java', 'C++', 'JavaScript']\n",
    "pos = np.arange(len(languages))\n",
    "popularity = [56, 39, 34, 34, 29]\n",
    "\n",
    "# DONE: change the bar colors to be less bright blue\n",
    "# DONE: make one bar, the python bar, a contrasting color\n",
    "bars = plt.bar(pos, popularity, align='center', color='lightslategrey')\n",
    "bars[0].set_color('#1F77B4')\n",
    "\n",
    "# DONE: soften all labels by turning grey\n",
    "plt.xticks(pos, languages, alpha=0.8)\n",
    "# DONE: remove the Y label since bars are directly labeled\n",
    "# plt.ylabel('% Popularity', alpha=0.8)\n",
    "plt.title('Top 5 Languages for Math & Data \\nby % popularity on Stack Overflow', alpha=0.8)\n",
    "\n",
    "# DONE: remove all the ticks (both axes), and tick labels on the Y axis\n",
    "plt.tick_params(\n",
    "    # axis=\"both\",\n",
    "    bottom=False,\n",
    "    left=False,\n",
    "    labelleft=False,\n",
    ")\n",
    "\n",
    "# DONE: remove the frame of the chart\n",
    "plt.box(False)\n",
    "# for spine in plt.gca().spines.values():\n",
    "#     spine.set_visible(False)\n",
    "\n",
    "# DONE: direct label each bar with Y axis values\n",
    "for bar in bars:\n",
    "    plt.gca().text(bar.get_x() + bar.get_width()/2, bar.get_height() - 5, str(int(bar.get_height())) + '%', \n",
    "                 ha='center', color='w', fontsize=11)\n",
    "plt.show()"
   ]
  }
 ],
 "metadata": {
  "interpreter": {
   "hash": "bedb456c523726507b65425b0befe9b7a70e9d9d7e093775b1b2ea7fb6595020"
  },
  "kernelspec": {
   "display_name": "Python 3.8.10 ('.venv': venv)",
   "language": "python",
   "name": "python3"
  },
  "language_info": {
   "codemirror_mode": {
    "name": "ipython",
    "version": 3
   },
   "file_extension": ".py",
   "mimetype": "text/x-python",
   "name": "python",
   "nbconvert_exporter": "python",
   "pygments_lexer": "ipython3",
   "version": "3.8.10"
  },
  "orig_nbformat": 4
 },
 "nbformat": 4,
 "nbformat_minor": 2
}
