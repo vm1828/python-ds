{
 "cells": [
  {
   "cell_type": "code",
   "execution_count": 2,
   "metadata": {},
   "outputs": [],
   "source": [
    "import numpy as np\n",
    "from numpy import linalg as lng\n",
    "from IPython.display import display, Math"
   ]
  },
  {
   "attachments": {},
   "cell_type": "markdown",
   "metadata": {},
   "source": [
    "# Functions and Operations"
   ]
  },
  {
   "attachments": {},
   "cell_type": "markdown",
   "metadata": {},
   "source": [
    "## Element-wise operations"
   ]
  },
  {
   "cell_type": "code",
   "execution_count": 12,
   "metadata": {},
   "outputs": [
    {
     "name": "stdout",
     "output_type": "stream",
     "text": [
      "a [1 2 3 4]\n",
      "b [5 6 7 8]\n",
      "\n",
      "+ [ 6  8 10 12]\n",
      "- [4 4 4 4]\n",
      "* [ 5 12 21 32]\n",
      "÷ [5.         3.         2.33333333 2.        ]\n",
      "\n",
      "remainders of b÷a [0 0 1 0]\n"
     ]
    }
   ],
   "source": [
    "a = np.arange(1, 5)\n",
    "b = np.arange(5, 9)\n",
    "print('a', a)\n",
    "print('b', b, end='\\n\\n')\n",
    "print('+', a+b) # np.add(a, b)\n",
    "print('-', b-a) # np.subtract(b, a)\n",
    "print('*', a*b) # np.multiply(a, b)\n",
    "print('÷', b/a, end='\\n\\n') # np.divide(b, a)\n",
    "\n",
    "print('remainders of b÷a', np.mod(b, a))"
   ]
  },
  {
   "cell_type": "code",
   "execution_count": 13,
   "metadata": {},
   "outputs": [
    {
     "name": "stdout",
     "output_type": "stream",
     "text": [
      "a [1 2 3 4]\n",
      "e [1 2 3 4]\n",
      "\n",
      "a^2 [3 0 1 6]\n",
      "a^e [  1   4  27 256]\n",
      "√a [1.         1.41421356 1.73205081 2.        ]\n"
     ]
    }
   ],
   "source": [
    "a = np.arange(1, 5)\n",
    "e = np.arange(1, 5)\n",
    "print('a', a)\n",
    "print('e', e, end='\\n\\n')\n",
    "print('a^2', a^2)\n",
    "print('a^e', a**e) # np.power(a, e)\n",
    "print('√a', np.sqrt(a))"
   ]
  },
  {
   "cell_type": "code",
   "execution_count": 9,
   "metadata": {},
   "outputs": [
    {
     "name": "stdout",
     "output_type": "stream",
     "text": [
      "[False  True  True  True]\n",
      "\n",
      "[100 200 300]\n"
     ]
    }
   ],
   "source": [
    "a = np.array([1, 100, 200, 300])\n",
    "b = np.array([100, 1, 1, 1])\n",
    "print(a >= b, end='\\n\\n')\n",
    "print(a[a > 2]) # apply boolean mask"
   ]
  },
  {
   "attachments": {},
   "cell_type": "markdown",
   "metadata": {},
   "source": [
    "## Broadcasting"
   ]
  },
  {
   "attachments": {},
   "cell_type": "markdown",
   "metadata": {},
   "source": [
    "If during arithmetic operation arrays have different shape, the smaller array is broadcast across the larger array so that their shapes become compatible."
   ]
  },
  {
   "cell_type": "code",
   "execution_count": 4,
   "metadata": {},
   "outputs": [
    {
     "name": "stdout",
     "output_type": "stream",
     "text": [
      "a [[1 2 3]\n",
      " [4 5 6]\n",
      " [7 8 9]]\n",
      "\n",
      "b [1 2 3]\n",
      "\n",
      "Shape of a: (3, 3) \n",
      "Shape of b: (3,)\n",
      "\n",
      "a+b [[ 2  4  6]\n",
      " [ 5  7  9]\n",
      " [ 8 10 12]]\n"
     ]
    }
   ],
   "source": [
    "a = np.arange(1, 10).reshape(3, 3)\n",
    "b = np.arange(1, 4)\n",
    "print('a', a, end='\\n\\n')\n",
    "print('b', b, end='\\n\\n')\n",
    "print(f'Shape of a: {a.shape} \\nShape of b: {b.shape}', end='\\n\\n')\n",
    "print('a+b', a+b)"
   ]
  },
  {
   "cell_type": "code",
   "execution_count": 5,
   "metadata": {},
   "outputs": [
    {
     "name": "stdout",
     "output_type": "stream",
     "text": [
      "a [[1 2 3]\n",
      " [4 5 6]\n",
      " [7 8 9]]\n",
      "\n",
      "b [1 2]\n",
      "\n",
      "Shape of a: (3, 3) \n",
      "Shape of b: (2,)\n",
      "\n",
      "operands could not be broadcast together with shapes (3,3) (2,) \n"
     ]
    }
   ],
   "source": [
    "a = np.arange(1, 10).reshape(3, 3)\n",
    "b = np.arange(1, 3) # can't be broadcasted\n",
    "print('a', a, end='\\n\\n')\n",
    "print('b', b, end='\\n\\n')\n",
    "print(f'Shape of a: {a.shape} \\nShape of b: {b.shape}', end='\\n\\n')\n",
    "\n",
    "try:\n",
    "    a+b\n",
    "except Exception as e:\n",
    "    print(e)\n"
   ]
  },
  {
   "attachments": {},
   "cell_type": "markdown",
   "metadata": {},
   "source": [
    "## Aggregate functions"
   ]
  },
  {
   "cell_type": "code",
   "execution_count": 6,
   "metadata": {},
   "outputs": [
    {
     "name": "stdout",
     "output_type": "stream",
     "text": [
      "[[10 20 30]\n",
      " [40 50 60]\n",
      " [70 80 90]]\n",
      "Sum of all elements: 450\n",
      "Sum of columns: [120 150 180]\n",
      "Sum of rows: [ 60 150 240]\n"
     ]
    }
   ],
   "source": [
    "arr = np.arange(10, 100, 10).reshape(3, 3)\n",
    "print(arr)\n",
    "print('Sum of all elements:', arr.sum())\n",
    "print('Sum of columns:', arr.sum(axis=0))\n",
    "print('Sum of rows:', arr.sum(axis=1))\n"
   ]
  },
  {
   "cell_type": "code",
   "execution_count": 7,
   "metadata": {},
   "outputs": [
    {
     "name": "stdout",
     "output_type": "stream",
     "text": [
      "[[10 20 30]\n",
      " [40 50 60]\n",
      " [70 80 90]]\n",
      "Product of all elements: 362880000000000\n",
      "Product of columns: [ 28000  80000 162000]\n",
      "Product of rows: [  6000 120000 504000]\n"
     ]
    }
   ],
   "source": [
    "arr = np.arange(10, 100, 10).reshape(3, 3)\n",
    "print(arr)\n",
    "print('Product of all elements:', arr.prod())\n",
    "print('Product of columns:', arr.prod(axis=0))\n",
    "print('Product of rows:', arr.prod(axis=1))"
   ]
  },
  {
   "cell_type": "code",
   "execution_count": 8,
   "metadata": {},
   "outputs": [
    {
     "name": "stdout",
     "output_type": "stream",
     "text": [
      "average: 50.0\n",
      "mean: 50.0\n",
      "min: 10\n",
      "max: 90\n",
      "std: 25.81988897471611\n"
     ]
    }
   ],
   "source": [
    "arr = np.arange(10, 100, 10).reshape(3, 3)\n",
    "print('average:', np.average(arr))\n",
    "print('mean:', np.mean(arr))\n",
    "print('min:', np.min(arr))\n",
    "print('max:', np.max(arr))\n",
    "print('std:', np.std(arr))"
   ]
  },
  {
   "cell_type": "code",
   "execution_count": 9,
   "metadata": {},
   "outputs": [
    {
     "name": "stdout",
     "output_type": "stream",
     "text": [
      "[[1 1 2]\n",
      " [1 1 2]\n",
      " [4 4 5]]\n",
      "\n",
      "unique: [1 2 4 5]\n",
      "unique with indexes:\n",
      " (array([1, 2, 4, 5]), array([0, 2, 6, 8]))\n",
      "unique with columns:\n",
      " (array([1, 2, 4, 5]), array([4, 2, 2, 1]))\n",
      "unique rows:\n",
      " [[1 1 2]\n",
      " [4 4 5]]\n",
      "unique columns:\n",
      " [[1 2]\n",
      " [1 2]\n",
      " [4 5]]\n"
     ]
    }
   ],
   "source": [
    "arr = np.array([[1, 1, 2], [1, 1, 2], [4, 4, 5]])\n",
    "print(arr, end='\\n\\n')\n",
    "print('unique:', np.unique(arr))\n",
    "print('unique with indexes:\\n', np.unique(arr, return_index=True))\n",
    "print('unique with columns:\\n', np.unique(arr, return_counts=True))\n",
    "print('unique rows:\\n', np.unique(arr, axis=0))\n",
    "print('unique columns:\\n', np.unique(arr, axis=1))"
   ]
  },
  {
   "attachments": {},
   "cell_type": "markdown",
   "metadata": {},
   "source": [
    "## transpose/moveaxis/swapaxis"
   ]
  },
  {
   "cell_type": "code",
   "execution_count": 10,
   "metadata": {},
   "outputs": [
    {
     "name": "stdout",
     "output_type": "stream",
     "text": [
      "[[ 0  1  2  3]\n",
      " [ 4  5  6  7]\n",
      " [ 8  9 10 11]]\n",
      "[[ 0  4  8]\n",
      " [ 1  5  9]\n",
      " [ 2  6 10]\n",
      " [ 3  7 11]]\n",
      "\n",
      "[[0 1]\n",
      " [2 3]\n",
      " [4 5]]\n",
      "[[0 2 4]\n",
      " [1 3 5]]\n"
     ]
    }
   ],
   "source": [
    "# reshape remakes the array by the inputs, transpose swaps rows and columns of an array (inverts axes)\n",
    "arr_3x4 = np.arange(12).reshape(3, 4)\n",
    "print(arr_3x4)\n",
    "print(np.transpose(arr_3x4), end='\\n\\n')\n",
    "\n",
    "arr_3x2 = np.arange(6).reshape(3, 2)\n",
    "print(arr_3x2)\n",
    "print(np.transpose(arr_3x2, (1,0)))"
   ]
  },
  {
   "cell_type": "code",
   "execution_count": 11,
   "metadata": {},
   "outputs": [
    {
     "name": "stdout",
     "output_type": "stream",
     "text": [
      "[[[ 0  1  2  3]\n",
      "  [ 4  5  6  7]\n",
      "  [ 8  9 10 11]]\n",
      "\n",
      " [[12 13 14 15]\n",
      "  [16 17 18 19]\n",
      "  [20 21 22 23]]]\n",
      "\n",
      "\n",
      "[[[ 0 12]\n",
      "  [ 1 13]\n",
      "  [ 2 14]\n",
      "  [ 3 15]]\n",
      "\n",
      " [[ 4 16]\n",
      "  [ 5 17]\n",
      "  [ 6 18]\n",
      "  [ 7 19]]\n",
      "\n",
      " [[ 8 20]\n",
      "  [ 9 21]\n",
      "  [10 22]\n",
      "  [11 23]]]\n"
     ]
    }
   ],
   "source": [
    "# moveaxis returns an array with moved axes\n",
    "arr = np.arange(24).reshape(2, 3, 4)\n",
    "print(arr, end='\\n\\n\\n')\n",
    "print(np.moveaxis(arr, 0, -1))"
   ]
  },
  {
   "cell_type": "code",
   "execution_count": 12,
   "metadata": {},
   "outputs": [
    {
     "name": "stdout",
     "output_type": "stream",
     "text": [
      "[[[ 0  1  2  3]\n",
      "  [ 4  5  6  7]\n",
      "  [ 8  9 10 11]]\n",
      "\n",
      " [[12 13 14 15]\n",
      "  [16 17 18 19]\n",
      "  [20 21 22 23]]]\n",
      "\n",
      "\n",
      "[[[ 0 12]\n",
      "  [ 4 16]\n",
      "  [ 8 20]]\n",
      "\n",
      " [[ 1 13]\n",
      "  [ 5 17]\n",
      "  [ 9 21]]\n",
      "\n",
      " [[ 2 14]\n",
      "  [ 6 18]\n",
      "  [10 22]]\n",
      "\n",
      " [[ 3 15]\n",
      "  [ 7 19]\n",
      "  [11 23]]]\n"
     ]
    }
   ],
   "source": [
    "# swapaxex interchanges two axes of an array\n",
    "arr = np.arange(24).reshape(2, 3, 4)\n",
    "print(arr, end='\\n\\n\\n')\n",
    "print(np.swapaxes(arr, 0, 2))"
   ]
  },
  {
   "attachments": {},
   "cell_type": "markdown",
   "metadata": {},
   "source": [
    "## reverse"
   ]
  },
  {
   "cell_type": "code",
   "execution_count": 13,
   "metadata": {},
   "outputs": [
    {
     "name": "stdout",
     "output_type": "stream",
     "text": [
      "[[0 1 2]\n",
      " [3 4 5]\n",
      " [6 7 8]]\n",
      "\n",
      "[[8 7 6]\n",
      " [5 4 3]\n",
      " [2 1 0]]\n",
      "\n",
      "[[2 1 0]\n",
      " [5 4 3]\n",
      " [8 7 6]]\n",
      "\n"
     ]
    }
   ],
   "source": [
    "arr = np.arange(9).reshape(3, 3)\n",
    "print(arr, end='\\n\\n')\n",
    "print(np.flip(arr), end='\\n\\n')\n",
    "print(np.flip(arr, 1), end='\\n\\n') # 1 number of axis"
   ]
  },
  {
   "attachments": {},
   "cell_type": "markdown",
   "metadata": {},
   "source": [
    "## dot"
   ]
  },
  {
   "cell_type": "code",
   "execution_count": 14,
   "metadata": {},
   "outputs": [
    {
     "name": "stdout",
     "output_type": "stream",
     "text": [
      "Dot product is commutative: True\n"
     ]
    },
    {
     "data": {
      "text/latex": [
       "$\\displaystyle a⋅b = b⋅a$"
      ],
      "text/plain": [
       "<IPython.core.display.Math object>"
      ]
     },
     "metadata": {},
     "output_type": "display_data"
    },
    {
     "name": "stdout",
     "output_type": "stream",
     "text": [
      "Dot product is distributive over addition: True\n"
     ]
    },
    {
     "data": {
      "text/latex": [
       "$\\displaystyle a⋅(b+c) = a⋅b+a⋅c$"
      ],
      "text/plain": [
       "<IPython.core.display.Math object>"
      ]
     },
     "metadata": {},
     "output_type": "display_data"
    }
   ],
   "source": [
    "a = np.array([1, 2, 3])\n",
    "b = np.array([4, 5, 6])\n",
    "c = np.array([7, 8, 9])\n",
    "\n",
    "print('Dot product is commutative:', np.dot(a,b)==np.dot(b,a))\n",
    "display(Math('a⋅b = b⋅a'))\n",
    "print('Dot product is distributive over addition:', np.dot(a,b+c)==np.dot(a,b)+np.dot(a,c))\n",
    "display(Math('a⋅(b+c) = a⋅b+a⋅c'))\n"
   ]
  },
  {
   "attachments": {},
   "cell_type": "markdown",
   "metadata": {},
   "source": [
    "## norm"
   ]
  },
  {
   "cell_type": "code",
   "execution_count": 15,
   "metadata": {},
   "outputs": [
    {
     "name": "stdout",
     "output_type": "stream",
     "text": [
      "[4 4 2]\n"
     ]
    },
    {
     "data": {
      "text/latex": [
       "$\\displaystyle ||ā|| = 6.0$"
      ],
      "text/plain": [
       "<IPython.core.display.Math object>"
      ]
     },
     "metadata": {},
     "output_type": "display_data"
    }
   ],
   "source": [
    "a = np.array([4, 4, 2])\n",
    "print(a)\n",
    "\n",
    "# vector magnitude (norm)\n",
    "display(Math(f'||ā|| = {lng.norm(a)}'))"
   ]
  }
 ],
 "metadata": {
  "kernelspec": {
   "display_name": ".venv",
   "language": "python",
   "name": "python3"
  },
  "language_info": {
   "codemirror_mode": {
    "name": "ipython",
    "version": 3
   },
   "file_extension": ".py",
   "mimetype": "text/x-python",
   "name": "python",
   "nbconvert_exporter": "python",
   "pygments_lexer": "ipython3",
   "version": "3.9.0"
  },
  "orig_nbformat": 4
 },
 "nbformat": 4,
 "nbformat_minor": 2
}
