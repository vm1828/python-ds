{
 "cells": [
  {
   "attachments": {},
   "cell_type": "markdown",
   "metadata": {},
   "source": [
    "# Intro"
   ]
  },
  {
   "cell_type": "code",
   "execution_count": 1,
   "metadata": {},
   "outputs": [],
   "source": [
    "import numpy as np\n",
    "import warnings"
   ]
  },
  {
   "attachments": {},
   "cell_type": "markdown",
   "metadata": {},
   "source": [
    "main numpy array attributes:\n",
    "- dtype\n",
    "- ndim\n",
    "- shape\n",
    "- size"
   ]
  },
  {
   "cell_type": "code",
   "execution_count": 2,
   "metadata": {},
   "outputs": [
    {
     "name": "stdout",
     "output_type": "stream",
     "text": [
      "Data type: int64\n",
      "Dimensionality: 2\n",
      "Shape: (2, 3)\n",
      "Size: 6\n"
     ]
    }
   ],
   "source": [
    "ints = np.array([[1, 2, 3], [4, 5, 6]])\n",
    "print(f'Data type: {ints.dtype}')\n",
    "print(f'Dimensionality: {ints.ndim}')\n",
    "print(f'Shape: {ints.shape}')\n",
    "print(f'Size: {ints.size}')"
   ]
  },
  {
   "attachments": {},
   "cell_type": "markdown",
   "metadata": {},
   "source": [
    "# Array data types"
   ]
  },
  {
   "cell_type": "markdown",
   "metadata": {},
   "source": [
    "## Integers"
   ]
  },
  {
   "cell_type": "code",
   "execution_count": 10,
   "metadata": {},
   "outputs": [
    {
     "name": "stdout",
     "output_type": "stream",
     "text": [
      "<class 'numpy.ndarray'>\n",
      "Data type of the array: int64\n",
      "[2 2 3 4 5]\n",
      "[5 2 3 4 5]\n"
     ]
    }
   ],
   "source": [
    "integers_64 = np.array([1, 2, 3, 4, 5])\n",
    "print(type(integers_64))\n",
    "print(f'Data type of the array: {integers_64.dtype}')\n",
    "# default array datatype for integers is int64\n",
    "\n",
    "integers_64[0] = 2\n",
    "print(integers_64)\n",
    "integers_64[0] = 5.1   # will be truncated\n",
    "print(integers_64)"
   ]
  },
  {
   "cell_type": "code",
   "execution_count": 4,
   "metadata": {},
   "outputs": [
    {
     "name": "stdout",
     "output_type": "stream",
     "text": [
      "Data type of the array: int64\n",
      "[127   2   3   4   5]\n",
      "[ 127 -128 -127 -126]\n"
     ]
    }
   ],
   "source": [
    "warnings.filterwarnings('ignore')\n",
    "\n",
    "integers_8 = np.array(integers_64, np.int8)\n",
    "print(f'Data type of the array: {integers_64.dtype}')\n",
    "\n",
    "integers_8[0] = 127\n",
    "print(integers_8)\n",
    "overflow = np.array([127, 128, 129, 130], np.int8)\n",
    "# conversion of out-of-bound integers is deprecated\n",
    "print(overflow)\n",
    "\n",
    "warnings.filterwarnings('default')"
   ]
  },
  {
   "cell_type": "code",
   "execution_count": 5,
   "metadata": {},
   "outputs": [
    {
     "name": "stdout",
     "output_type": "stream",
     "text": [
      "40\n",
      "5\n"
     ]
    }
   ],
   "source": [
    "print(integers_64.nbytes)\n",
    "print(integers_8.nbytes)\n",
    "# int8 array takes 8 times less memory than int64"
   ]
  },
  {
   "cell_type": "markdown",
   "metadata": {},
   "source": [
    "## Floats"
   ]
  },
  {
   "cell_type": "code",
   "execution_count": 6,
   "metadata": {},
   "outputs": [
    {
     "data": {
      "text/plain": [
       "dtype('float64')"
      ]
     },
     "execution_count": 6,
     "metadata": {},
     "output_type": "execute_result"
    }
   ],
   "source": [
    "floats_64 = np.array([.1, .2, .3, .4, .5])\n",
    "floats_64.dtype"
   ]
  },
  {
   "cell_type": "code",
   "execution_count": 7,
   "metadata": {},
   "outputs": [
    {
     "name": "stdout",
     "output_type": "stream",
     "text": [
      "float64\n",
      "<U32\n"
     ]
    }
   ],
   "source": [
    "# if the data is mixed, the datatype of the array will be the most general one\n",
    "np_arr = np.array([1, .1, 2, 3, 4])\n",
    "print(np_arr.dtype)\n",
    "np_arr = np.array([1, 'asdf', .2, 3, 4])\n",
    "print(np_arr.dtype)"
   ]
  },
  {
   "attachments": {},
   "cell_type": "markdown",
   "metadata": {},
   "source": [
    "# Multidimensional arrays"
   ]
  },
  {
   "cell_type": "code",
   "execution_count": 41,
   "metadata": {},
   "outputs": [
    {
     "name": "stdout",
     "output_type": "stream",
     "text": [
      "[[1 2 3]\n",
      " [8 7 6]]\n",
      "\n",
      "Dimensions: 2\n"
     ]
    }
   ],
   "source": [
    "arr_2_dim = np.array([[1, 2, 3], [8, 7, 6]])\n",
    "print(arr_2_dim, end='\\n\\n')\n",
    "print(f'Dimensions: {arr_2_dim.ndim}')"
   ]
  },
  {
   "cell_type": "code",
   "execution_count": 42,
   "metadata": {},
   "outputs": [
    {
     "data": {
      "text/plain": [
       "array([[  1,   2, 300],\n",
       "       [  8,   7, 600]])"
      ]
     },
     "execution_count": 42,
     "metadata": {},
     "output_type": "execute_result"
    }
   ],
   "source": [
    "# change 3rd column\n",
    "arr_2_dim[:, 2] = [300, 600]\n",
    "arr_2_dim"
   ]
  },
  {
   "cell_type": "code",
   "execution_count": 43,
   "metadata": {},
   "outputs": [
    {
     "name": "stdout",
     "output_type": "stream",
     "text": [
      "Second column: [2 7]\n",
      "Second row, first column: 8\n"
     ]
    }
   ],
   "source": [
    "print(f'Second column: {arr_2_dim[:, 1]}')\n",
    "print(f'Second row, first column: {arr_2_dim[1,0]}')"
   ]
  },
  {
   "cell_type": "code",
   "execution_count": 44,
   "metadata": {},
   "outputs": [
    {
     "name": "stdout",
     "output_type": "stream",
     "text": [
      "1st 2-dim array, second row, first column: 8\n"
     ]
    }
   ],
   "source": [
    "arr_3_dim = np.array([arr_2_dim, arr_2_dim])\n",
    "print(f'1st 2-dim array, second row, first column: {arr_3_dim[0,1,0]}')"
   ]
  },
  {
   "attachments": {},
   "cell_type": "markdown",
   "metadata": {},
   "source": [
    "# Generate arrays"
   ]
  },
  {
   "cell_type": "markdown",
   "metadata": {},
   "source": [
    "## arange"
   ]
  },
  {
   "cell_type": "code",
   "execution_count": 11,
   "metadata": {},
   "outputs": [
    {
     "name": "stdout",
     "output_type": "stream",
     "text": [
      "[0 1 2 3 4]\n",
      "[100 101 102 103 104]\n",
      "[100 110 120 130 140]\n",
      "[150 140 130 120 110]\n",
      "\n"
     ]
    }
   ],
   "source": [
    "print(np.arange(5))\n",
    "print(np.arange(100, 105))\n",
    "print(np.arange(100, 150, 10))\n",
    "print(np.arange(150, 100, -10), end='\\n\\n')"
   ]
  },
  {
   "cell_type": "markdown",
   "metadata": {},
   "source": [
    "## linspace"
   ]
  },
  {
   "cell_type": "code",
   "execution_count": 12,
   "metadata": {},
   "outputs": [
    {
     "name": "stdout",
     "output_type": "stream",
     "text": [
      "[10.  12.5 15.  17.5 20. ]\n",
      "[[ 1.    3.  ]\n",
      " [ 2.75  5.25]\n",
      " [ 4.5   7.5 ]\n",
      " [ 6.25  9.75]\n",
      " [ 8.   12.  ]]\n"
     ]
    }
   ],
   "source": [
    "print(np.linspace(10, 20, 5)) # 5 samples, by default 50\n",
    "print(np.linspace((1,3), (8, 12), 5)) # 2-dim"
   ]
  },
  {
   "cell_type": "markdown",
   "metadata": {},
   "source": [
    "## random"
   ]
  },
  {
   "cell_type": "markdown",
   "metadata": {},
   "source": [
    "### rand"
   ]
  },
  {
   "cell_type": "code",
   "execution_count": 64,
   "metadata": {},
   "outputs": [
    {
     "name": "stdout",
     "output_type": "stream",
     "text": [
      "[0.50523672 0.38689265 0.79363745]\n",
      "\n",
      "[[0.58000418 0.1622986 ]\n",
      " [0.70075235 0.96455108]\n",
      " [0.50000836 0.88952006]]\n"
     ]
    }
   ],
   "source": [
    "print(np.random.rand(3), end='\\n\\n')   # 1-dim array\n",
    "print(np.random.rand(3,2)) # 2-dim array"
   ]
  },
  {
   "cell_type": "code",
   "execution_count": 60,
   "metadata": {},
   "outputs": [
    {
     "name": "stdout",
     "output_type": "stream",
     "text": [
      "[0.18443987 0.78533515 0.85397529]\n",
      "[0.49423684 0.84656149 0.07964548]\n",
      "\n",
      "[0.4359949  0.02592623 0.54966248]\n",
      "[0.43532239 0.4203678  0.33033482]\n"
     ]
    }
   ],
   "source": [
    "print(np.random.rand(3))\n",
    "print(np.random.rand(3), end='\\n\\n')\n",
    "\n",
    "# if we use fixed seed value, the generated values will be the same each time\n",
    "np.random.seed(2)\n",
    "print(np.random.rand(3))\n",
    "print(np.random.rand(3))"
   ]
  },
  {
   "cell_type": "markdown",
   "metadata": {},
   "source": [
    "### randint"
   ]
  },
  {
   "cell_type": "code",
   "execution_count": 62,
   "metadata": {},
   "outputs": [
    {
     "name": "stdout",
     "output_type": "stream",
     "text": [
      "[4 6 9 5 7]\n",
      "\n",
      "[[95 83]\n",
      " [31 66]\n",
      " [80 52]]\n"
     ]
    }
   ],
   "source": [
    "print(np.random.randint(1, 10, 5), end='\\n\\n') # 5 integers between 1 and 10\n",
    "print(np.random.randint(low=0, high=100, size=(3, 2))) # 3x2 array of integers between 0 and 100"
   ]
  },
  {
   "cell_type": "markdown",
   "metadata": {},
   "source": [
    "### randn"
   ]
  },
  {
   "cell_type": "code",
   "execution_count": 59,
   "metadata": {},
   "outputs": [
    {
     "name": "stdout",
     "output_type": "stream",
     "text": [
      "[[-1.24528809 -1.05795222]\n",
      " [-0.90900761  0.55145404]\n",
      " [ 2.29220801  0.04153939]]\n"
     ]
    }
   ],
   "source": [
    "# generate random values from the standard normal distribution\n",
    "print(np.random.randn(3, 2)) "
   ]
  },
  {
   "cell_type": "markdown",
   "metadata": {},
   "source": [
    "## zeros/ones"
   ]
  },
  {
   "cell_type": "code",
   "execution_count": 12,
   "metadata": {},
   "outputs": [
    {
     "name": "stdout",
     "output_type": "stream",
     "text": [
      "[0. 0. 0. 0. 0.]\n",
      "[[0 0 0]\n",
      " [0 0 0]\n",
      " [0 0 0]\n",
      " [0 0 0]\n",
      " [0 0 0]]\n"
     ]
    }
   ],
   "source": [
    "print(np.zeros(5))\n",
    "print(np.zeros((5,3), dtype=int))"
   ]
  },
  {
   "cell_type": "code",
   "execution_count": 13,
   "metadata": {},
   "outputs": [
    {
     "name": "stdout",
     "output_type": "stream",
     "text": [
      "[1. 1. 1. 1. 1.]\n",
      "[[1 1 1]\n",
      " [1 1 1]\n",
      " [1 1 1]\n",
      " [1 1 1]\n",
      " [1 1 1]]\n"
     ]
    }
   ],
   "source": [
    "print(np.ones(5))\n",
    "print(np.ones((5,3), dtype=int))"
   ]
  },
  {
   "cell_type": "markdown",
   "metadata": {},
   "source": [
    "## empty/fill/full"
   ]
  },
  {
   "cell_type": "code",
   "execution_count": 14,
   "metadata": {},
   "outputs": [
    {
     "name": "stdout",
     "output_type": "stream",
     "text": [
      "[4607182418800017408 4607182418800017408 4607182418800017408\n",
      " 4607182418800017408 4607182418800017408]\n",
      "\n",
      "[88 88 88 88 88]\n"
     ]
    }
   ],
   "source": [
    "arr = np.empty(5, dtype=int)\n",
    "print(arr, end='\\n\\n')\n",
    "\n",
    "arr.fill(88)\n",
    "print(arr)"
   ]
  },
  {
   "cell_type": "code",
   "execution_count": 9,
   "metadata": {},
   "outputs": [
    {
     "name": "stdout",
     "output_type": "stream",
     "text": [
      "[2.5 2.5 2.5 2.5 2.5]\n",
      "\n",
      "[['a' 'a' 'a']\n",
      " ['a' 'a' 'a']\n",
      " ['a' 'a' 'a']\n",
      " ['a' 'a' 'a']\n",
      " ['a' 'a' 'a']]\n",
      "(5, 3)\n",
      "\n",
      "[[[88 88]\n",
      "  [88 88]]\n",
      "\n",
      " [[88 88]\n",
      "  [88 88]]]\n",
      "(2, 2, 2)\n",
      "\n"
     ]
    }
   ],
   "source": [
    "print(np.full(5, 2.5), end='\\n\\n')\n",
    "\n",
    "arr_5x3 = np.full((5,3), 'a')\n",
    "print(arr_5x3)\n",
    "print(arr_5x3.shape, end='\\n\\n')\n",
    "\n",
    "arr_2x2x2 = np.full((2,2,2), 88)\n",
    "print(arr_2x2x2)\n",
    "print(arr_2x2x2.shape, end='\\n\\n')"
   ]
  },
  {
   "attachments": {},
   "cell_type": "markdown",
   "metadata": {},
   "source": [
    "# Manipulate arrays"
   ]
  },
  {
   "attachments": {},
   "cell_type": "markdown",
   "metadata": {},
   "source": [
    "## insert / append / delete"
   ]
  },
  {
   "cell_type": "code",
   "execution_count": 16,
   "metadata": {},
   "outputs": [
    {
     "name": "stdout",
     "output_type": "stream",
     "text": [
      "[111   1   2   3]\n",
      "[  1   2   3 222]\n",
      "[1 2]\n",
      "[1 2 3]\n"
     ]
    }
   ],
   "source": [
    "arr = np.array([1, 2, 3])\n",
    "\n",
    "print(np.insert(arr, 0, 111))\n",
    "print(np.append(arr, 222))\n",
    "print(np.delete(arr, 2))\n",
    "print(arr)"
   ]
  },
  {
   "attachments": {},
   "cell_type": "markdown",
   "metadata": {},
   "source": [
    "## sort"
   ]
  },
  {
   "cell_type": "code",
   "execution_count": 17,
   "metadata": {},
   "outputs": [
    {
     "name": "stdout",
     "output_type": "stream",
     "text": [
      "[[1 2 3]\n",
      " [4 5 6]]\n"
     ]
    }
   ],
   "source": [
    "arr = np.array([[2, 3, 1], [5, 6, 4]])\n",
    "print(np.sort(arr))"
   ]
  },
  {
   "attachments": {},
   "cell_type": "markdown",
   "metadata": {},
   "source": [
    "## copy/view"
   ]
  },
  {
   "cell_type": "code",
   "execution_count": 18,
   "metadata": {},
   "outputs": [
    {
     "name": "stdout",
     "output_type": "stream",
     "text": [
      "[[1 2 3]\n",
      " [4 5 6]]\n",
      "[[111   2   3]\n",
      " [  4   5   6]]\n",
      "None\n"
     ]
    }
   ],
   "source": [
    "arr = np.array([[1, 2, 3], [4, 5, 6]])\n",
    "arr_copy = arr.copy()\n",
    "arr_copy[0][0] = 111\n",
    "print(arr)\n",
    "print(arr_copy)\n",
    "print(arr_copy.base)"
   ]
  },
  {
   "cell_type": "code",
   "execution_count": 19,
   "metadata": {},
   "outputs": [
    {
     "name": "stdout",
     "output_type": "stream",
     "text": [
      "[[111   2   3]\n",
      " [  4   5   6]]\n",
      "[[111   2   3]\n",
      " [  4   5   6]]\n",
      "[[111   2   3]\n",
      " [  4   5   6]]\n"
     ]
    }
   ],
   "source": [
    "arr = np.array([[1, 2, 3], [4, 5, 6]])\n",
    "arr_view = arr.view()\n",
    "arr_view[0][0] = 111\n",
    "print(arr)\n",
    "print(arr_view)\n",
    "print(arr_view.base)"
   ]
  },
  {
   "attachments": {},
   "cell_type": "markdown",
   "metadata": {},
   "source": [
    "## reshape/flatten/ravel"
   ]
  },
  {
   "cell_type": "code",
   "execution_count": 20,
   "metadata": {},
   "outputs": [
    {
     "name": "stdout",
     "output_type": "stream",
     "text": [
      "[1 2 3 4 5 6]\n",
      "[[1 2 3]\n",
      " [4 5 6]]\n",
      "[[[1]\n",
      "  [2]]\n",
      "\n",
      " [[3]\n",
      "  [4]]\n",
      "\n",
      " [[5]\n",
      "  [6]]]\n",
      "[1 2 3 4 5 6]\n"
     ]
    }
   ],
   "source": [
    "arr = np.arange(1, 7)\n",
    "print(arr)\n",
    "print(np.reshape(arr, (2, 3)))\n",
    "print(arr.reshape(3, 2, 1))\n",
    "print(arr)"
   ]
  },
  {
   "cell_type": "code",
   "execution_count": 21,
   "metadata": {},
   "outputs": [
    {
     "name": "stdout",
     "output_type": "stream",
     "text": [
      "[[1 2 3]\n",
      " [4 5 6]]\n",
      "[1 2 3 4 5 6]\n",
      "[[1 2 3]\n",
      " [4 5 6]]\n"
     ]
    }
   ],
   "source": [
    "# flattening with reshape\n",
    "arr = np.array([[1, 2, 3], [4, 5, 6]])\n",
    "print(arr)\n",
    "print(np.reshape(arr, -1))\n",
    "print(arr)"
   ]
  },
  {
   "cell_type": "code",
   "execution_count": 22,
   "metadata": {},
   "outputs": [
    {
     "name": "stdout",
     "output_type": "stream",
     "text": [
      "[[1 2 3]\n",
      " [4 5 6]]\n",
      "[  1   2   3 444   5   6]\n",
      "[[1 2 3]\n",
      " [4 5 6]]\n"
     ]
    }
   ],
   "source": [
    "arr = np.array([[1, 2, 3], [4, 5, 6]])\n",
    "print(arr)\n",
    "\n",
    "# flattening with flatten creates a copy\n",
    "arr_flatten = arr.flatten()\n",
    "arr_flatten[3] = 444\n",
    "print(arr_flatten)\n",
    "print(arr)"
   ]
  },
  {
   "cell_type": "code",
   "execution_count": 23,
   "metadata": {},
   "outputs": [
    {
     "name": "stdout",
     "output_type": "stream",
     "text": [
      "[[1 2 3]\n",
      " [4 5 6]]\n",
      "[  1   2   3 444   5   6]\n",
      "[[  1   2   3]\n",
      " [444   5   6]]\n"
     ]
    }
   ],
   "source": [
    "arr = np.array([[1, 2, 3], [4, 5, 6]])\n",
    "print(arr)\n",
    "\n",
    "# flattening with ravel creates a view\n",
    "arr_ravel = arr.ravel()\n",
    "arr_ravel[3] = 444\n",
    "print(arr_ravel)\n",
    "print(arr)"
   ]
  },
  {
   "attachments": {},
   "cell_type": "markdown",
   "metadata": {},
   "source": [
    "## indexing/slicing"
   ]
  },
  {
   "cell_type": "code",
   "execution_count": 24,
   "metadata": {},
   "outputs": [
    {
     "name": "stdout",
     "output_type": "stream",
     "text": [
      "[[[ 0  1  2  3]\n",
      "  [ 4  5  6  7]\n",
      "  [ 8  9 10 11]]\n",
      "\n",
      " [[12 13 14 15]\n",
      "  [16 17 18 19]\n",
      "  [20 21 22 23]]]\n",
      "\n",
      "\n",
      "[12 13 14 15]\n",
      "12\n",
      "23\n"
     ]
    }
   ],
   "source": [
    "arr = np.reshape(np.arange(2*3*4), (2, 3, 4))\n",
    "print(arr, end='\\n\\n\\n')\n",
    "print(arr[1,0])\n",
    "print(arr[1,0,0])\n",
    "print(arr[1,-1,-1])"
   ]
  },
  {
   "cell_type": "code",
   "execution_count": 25,
   "metadata": {},
   "outputs": [
    {
     "name": "stdout",
     "output_type": "stream",
     "text": [
      "[[[ 0  1  2  3]\n",
      "  [ 4  5  6  7]\n",
      "  [ 8  9 10 11]]\n",
      "\n",
      " [[12 13 14 15]\n",
      "  [16 17 18 19]\n",
      "  [20 21 22 23]]]\n",
      "\n",
      "\n",
      "[[[ 3]\n",
      "  [ 7]\n",
      "  [11]]\n",
      "\n",
      " [[15]\n",
      "  [19]\n",
      "  [23]]]\n",
      "\n",
      "\n",
      "[[[16 17 18 19]\n",
      "  [20 21 22 23]]]\n"
     ]
    }
   ],
   "source": [
    "arr = np.reshape(np.arange(2*3*4), (2, 3, 4))\n",
    "print(arr, end='\\n\\n\\n')\n",
    "print(arr[:, :, 3:], end='\\n\\n\\n')\n",
    "print(arr[1:, 1:])\n"
   ]
  },
  {
   "attachments": {},
   "cell_type": "markdown",
   "metadata": {},
   "source": [
    "## join"
   ]
  },
  {
   "cell_type": "code",
   "execution_count": 26,
   "metadata": {},
   "outputs": [
    {
     "name": "stdout",
     "output_type": "stream",
     "text": [
      "[[ 1  2  3]\n",
      " [ 4  5  6]\n",
      " [ 7  8  9]\n",
      " [10 11 12]]\n",
      "\n",
      "[[ 1  2  3  7  8  9]\n",
      " [ 4  5  6 10 11 12]]\n",
      "\n"
     ]
    }
   ],
   "source": [
    "arr_1 = np.array([[1, 2, 3], [4, 5, 6]])\n",
    "arr_2 = np.array([[7, 8, 9], [10, 11, 12]])\n",
    "print(np.concatenate((arr_1, arr_2)), end='\\n\\n')\n",
    "print(np.concatenate((arr_1, arr_2), axis=1), end='\\n\\n')"
   ]
  },
  {
   "cell_type": "code",
   "execution_count": 27,
   "metadata": {},
   "outputs": [
    {
     "name": "stdout",
     "output_type": "stream",
     "text": [
      "[[[ 1  2  3]\n",
      "  [ 4  5  6]]\n",
      "\n",
      " [[ 7  8  9]\n",
      "  [10 11 12]]]\n"
     ]
    }
   ],
   "source": [
    "# stack joins arrays along new axis\n",
    "arr_1 = np.array([[1, 2, 3], [4, 5, 6]])\n",
    "arr_2 = np.array([[7, 8, 9], [10, 11, 12]])\n",
    "print(np.stack((arr_1, arr_2)))"
   ]
  },
  {
   "cell_type": "code",
   "execution_count": 28,
   "metadata": {},
   "outputs": [
    {
     "name": "stdout",
     "output_type": "stream",
     "text": [
      "[[ 1  2  3  7  8  9]\n",
      " [ 4  5  6 10 11 12]]\n",
      "\n",
      "[[ 1  2  3]\n",
      " [ 4  5  6]\n",
      " [ 7  8  9]\n",
      " [10 11 12]]\n"
     ]
    }
   ],
   "source": [
    "arr_1 = np.array([[1, 2, 3], [4, 5, 6]])\n",
    "arr_2 = np.array([[7, 8, 9], [10, 11, 12]])\n",
    "print(np.hstack((arr_1, arr_2)), end='\\n\\n')\n",
    "print(np.vstack((arr_1, arr_2)))"
   ]
  },
  {
   "attachments": {},
   "cell_type": "markdown",
   "metadata": {},
   "source": [
    "## split"
   ]
  },
  {
   "cell_type": "code",
   "execution_count": 29,
   "metadata": {},
   "outputs": [
    {
     "name": "stdout",
     "output_type": "stream",
     "text": [
      "[0 1 2 3 4 5 6 7 8]\n",
      "[array([0, 1, 2]), array([3, 4, 5]), array([6, 7, 8])]\n",
      "[array([0, 1, 2]), array([3, 4]), array([5, 6]), array([7, 8])]\n"
     ]
    }
   ],
   "source": [
    "arr = np.arange(9)\n",
    "print(arr)\n",
    "print(np.array_split(arr, 3))\n",
    "print(np.array_split(arr, 4))"
   ]
  },
  {
   "cell_type": "code",
   "execution_count": 30,
   "metadata": {},
   "outputs": [
    {
     "name": "stdout",
     "output_type": "stream",
     "text": [
      "[[1 2]\n",
      " [3 4]]\n",
      "\n",
      "[array([[1],\n",
      "       [3]]), array([[2],\n",
      "       [4]])]\n",
      "\n",
      "[array([[1, 2]]), array([[3, 4]])]\n"
     ]
    }
   ],
   "source": [
    "arr = np.array([[1, 2], [3, 4]])\n",
    "print(arr, end='\\n\\n')\n",
    "print(np.hsplit(arr, 2), end='\\n\\n')\n",
    "print(np.vsplit(arr, 2))"
   ]
  }
 ],
 "metadata": {
  "kernelspec": {
   "display_name": ".venv",
   "language": "python",
   "name": "python3"
  },
  "language_info": {
   "codemirror_mode": {
    "name": "ipython",
    "version": 3
   },
   "file_extension": ".py",
   "mimetype": "text/x-python",
   "name": "python",
   "nbconvert_exporter": "python",
   "pygments_lexer": "ipython3",
   "version": "3.9.0"
  },
  "orig_nbformat": 4
 },
 "nbformat": 4,
 "nbformat_minor": 2
}
